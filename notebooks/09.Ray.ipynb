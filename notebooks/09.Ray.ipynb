{
 "cells": [
  {
   "cell_type": "markdown",
   "metadata": {},
   "source": [
    "# RAY"
   ]
  },
  {
   "cell_type": "code",
   "execution_count": null,
   "metadata": {},
   "outputs": [],
   "source": [
    "import ray\n",
    "import pandas as pd\n",
    "\n",
    "ray.init(include_dashboard=True)"
   ]
  },
  {
   "cell_type": "markdown",
   "metadata": {},
   "source": [
    "### Управление объектами в Object Store"
   ]
  },
  {
   "cell_type": "code",
   "execution_count": null,
   "metadata": {},
   "outputs": [],
   "source": [
    "y = \"Hello world\"\n",
    "y_ref = ray.put(y)\n",
    "\n",
    "print(y_ref)\n",
    "print(ray.get(y_ref))"
   ]
  },
  {
   "cell_type": "markdown",
   "metadata": {},
   "source": [
    "### Tasks"
   ]
  },
  {
   "cell_type": "code",
   "execution_count": null,
   "metadata": {},
   "outputs": [],
   "source": [
    "@ray.remote(num_cpus=1)\n",
    "def func(a: int) -> int:\n",
    "    return a + 1\n",
    "\n",
    "# аргумент автоматически добавляется в хранилище\n",
    "res_ref = func.remote(2)\n",
    "print(ray.get(res_ref))\n",
    "\n",
    "# можно добавить вручную\n",
    "y = 1\n",
    "y_ref = ray.put(y)\n",
    "res_ref = func.remote(y_ref)\n",
    "print(ray.get(res_ref))"
   ]
  },
  {
   "cell_type": "markdown",
   "metadata": {},
   "source": [
    "### Actors"
   ]
  },
  {
   "cell_type": "code",
   "execution_count": null,
   "metadata": {},
   "outputs": [],
   "source": [
    "# если нужен объект, который существует в единственном экземпляре\n",
    "@ray.remote\n",
    "class Actor:\n",
    "    def __init__(self):\n",
    "        self.d = dict()    \n",
    "\n",
    "    def get(self, k: int) -> str:\n",
    "        return self.d[k]\n",
    "\n",
    "    def set(self, k: int, v: str):        \n",
    "        self.d[k] = v\n",
    "\n",
    "\n",
    "actor_ref = Actor.remote()\n",
    "actor_ref.set.remote(2, \"Hello\")\n",
    "\n",
    "res_ref = actor_ref.get.remote(2)\n",
    "print(ray.get(res_ref))"
   ]
  },
  {
   "cell_type": "markdown",
   "metadata": {},
   "source": [
    "### Datasets"
   ]
  },
  {
   "cell_type": "code",
   "execution_count": null,
   "metadata": {},
   "outputs": [],
   "source": [
    "ds = ray.data.range(10000)\n",
    "ds = ray.data.read_csv(\"../data/currencies.csv\")\n",
    "ds.show(5)\n",
    "\n",
    "ds = ds.repartition(2)\n",
    "\n",
    "ds_new = ds.map(\n",
    "    lambda record: {\"USD\" : 2 * record[\"USD\"] }\n",
    ")\n",
    "ds_new.show(5)\n",
    "\n",
    "def _mapper(df: pd.DataFrame) -> pd.DataFrame:\n",
    "    df[\"USD\"] *= 2\n",
    "    return df\n",
    "\n",
    "ds_new = ds.map_batches(\n",
    "    _mapper, \n",
    "    batch_format=\"pandas\"\n",
    ")\n",
    "ds_new.show(5)"
   ]
  }
 ],
 "metadata": {
  "kernelspec": {
   "display_name": "venv_bd2025",
   "language": "python",
   "name": "python3"
  },
  "language_info": {
   "codemirror_mode": {
    "name": "ipython",
    "version": 3
   },
   "file_extension": ".py",
   "mimetype": "text/x-python",
   "name": "python",
   "nbconvert_exporter": "python",
   "pygments_lexer": "ipython3",
   "version": "3.11.0"
  },
  "orig_nbformat": 4
 },
 "nbformat": 4,
 "nbformat_minor": 2
}
